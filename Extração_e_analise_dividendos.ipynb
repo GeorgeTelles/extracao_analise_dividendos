{
  "cells": [
    {
      "cell_type": "markdown",
      "metadata": {
        "id": "view-in-github",
        "colab_type": "text"
      },
      "source": [
        "<a href=\"https://colab.research.google.com/github/GeorgeTelles/extracao_analise_dividendos/blob/main/Extra%C3%A7%C3%A3o_e_analise_dividendos.ipynb\" target=\"_parent\"><img src=\"https://colab.research.google.com/assets/colab-badge.svg\" alt=\"Open In Colab\"/></a>"
      ]
    },
    {
      "cell_type": "markdown",
      "metadata": {
        "id": "01UhjCnDy5WF"
      },
      "source": [
        "<div>\n",
        "  <img src=\"https://raw.githubusercontent.com/GeorgeTelles/georgetelles/f69531ec6b293b5148563588a764c010015d315e/logo_clara.png\" alt=\"logo clara\" width=\"300\" style=\"display: inline-block; vertical-align: top; margin-right: 10px;\">\n",
        "  <img src=\"https://raw.githubusercontent.com/GeorgeTelles/georgetelles/f69531ec6b293b5148563588a764c010015d315e/logo_dark.png\" alt=\"logo dark\" width=\"300\" style=\"display: inline-block; vertical-align: top;\">\n",
        "</div>"
      ]
    },
    {
      "cell_type": "markdown",
      "metadata": {
        "id": "63IYDbz7wkBq"
      },
      "source": [
        "# **Extração e analise dividendos (com Python)**"
      ]
    },
    {
      "cell_type": "markdown",
      "metadata": {
        "id": "Gz5nPouo4DVe"
      },
      "source": [
        "## Teoria"
      ]
    },
    {
      "cell_type": "markdown",
      "metadata": {
        "id": "vaSeR6jdwhzi"
      },
      "source": [
        "Dividendos e juros sobre capital próprio (JCP) são duas formas de remuneração que as empresas brasileiras utilizam para distribuir parte de seus lucros aos acionistas. Vamos entender cada um deles:\n",
        "\n",
        "### Dividendos\n",
        "\n",
        "Dividendos são a parcela do lucro de uma empresa que é distribuída aos seus acionistas. Eles representam um retorno sobre o capital investido pelos acionistas na empresa. Existem alguns pontos-chave sobre os dividendos:\n",
        "\n",
        "1. **Periodicidade**: Os dividendos podem ser distribuídos periodicamente, como trimestralmente, semestralmente ou anualmente, dependendo da política de dividendos da empresa.\n",
        "2. **Obrigatoriedade**: No Brasil, a Lei das Sociedades por Ações (Lei nº 6.404/76) estabelece que as empresas devem distribuir no mínimo 25% do lucro líquido ajustado aos seus acionistas, salvo decisão em contrário tomada em assembleia.\n",
        "3. **Forma de pagamento**: Os dividendos podem ser pagos em dinheiro, ações adicionais ou outras formas, conforme a decisão da empresa.\n",
        "4. **Imposto de Renda**: No Brasil, os dividendos são isentos de imposto de renda para a pessoa física, pois já são tributados na fonte, ou seja, na empresa que os distribui.\n",
        "\n",
        "### Juros sobre Capital Próprio (JCP)\n",
        "\n",
        "Os juros sobre capital próprio são uma forma alternativa de distribuição de lucros que permite às empresas deduzirem essa despesa como um custo operacional, reduzindo assim a base de cálculo do imposto de renda e da contribuição social sobre o lucro líquido (CSLL). Alguns pontos importantes sobre o JCP são:\n",
        "\n",
        "1. **Base Legal**: O JCP é regido pela Lei nº 9.249/95.\n",
        "2. **Cálculo**: O valor do JCP é limitado a uma taxa de juros definida pela legislação, que é aplicada sobre o patrimônio líquido da empresa. Essa taxa é baseada na Taxa de Juros de Longo Prazo (TJLP).\n",
        "3. **Tributação**: Ao contrário dos dividendos, o JCP está sujeito à retenção de imposto de renda na fonte, com uma alíquota de 15% para pessoa física e jurídica.\n",
        "4. **Dedutibilidade**: Para a empresa, o JCP é uma despesa dedutível, o que significa que ele pode ser abatido do lucro tributável, proporcionando uma economia fiscal.\n",
        "\n",
        "### Comparação entre Dividendos e JCP\n",
        "\n",
        "- **Impacto Fiscal para a Empresa**: Os dividendos não são dedutíveis para a empresa, enquanto o JCP é dedutível, o que pode reduzir o imposto a pagar.\n",
        "- **Tributação para o Acionista**: Os dividendos são isentos de imposto de renda para os acionistas, enquanto o JCP sofre retenção na fonte.\n",
        "- **Flexibilidade de Uso**: As empresas podem optar por distribuir seus lucros através de uma combinação de dividendos e JCP, dependendo de sua estratégia fiscal e financeira.\n",
        "\n",
        "Esses mecanismos permitem às empresas flexibilizar a distribuição de seus lucros de forma eficiente, beneficiando tanto a empresa quanto os acionistas, conforme as condições econômicas e a legislação vigente."
      ]
    },
    {
      "cell_type": "markdown",
      "metadata": {
        "id": "F1KmEVEu0S-S"
      },
      "source": [
        "---"
      ]
    },
    {
      "cell_type": "markdown",
      "metadata": {
        "id": "NOlVM5Em0TuZ"
      },
      "source": [
        "### **O que você precisa saber sobre as datas**"
      ]
    },
    {
      "cell_type": "markdown",
      "metadata": {
        "id": "ofBa3HEW0caB"
      },
      "source": [
        "A \"Data Com\" (ou \"Data Ex-Dividendo\") é um termo utilizado no mercado financeiro para indicar a data a partir da qual as ações de uma empresa são negociadas sem o direito aos dividendos ou juros sobre capital próprio anunciados. Vamos entender melhor o conceito:\n",
        "\n",
        "### Data Com (ou Data de Corte)\n",
        "\n",
        "A Data Com é a última data na qual um investidor precisa possuir as ações de uma empresa para ter direito a receber os dividendos ou JCP anunciados. Se um investidor comprar as ações na Data Com ou antes, ele terá direito aos proventos. No dia seguinte à Data Com, as ações são negociadas \"ex-dividendo\" (sem direito aos proventos).\n",
        "\n",
        "### Importância da Data Com\n",
        "\n",
        "1. **Determinação dos Beneficiários**: A Data Com é crucial para determinar quais acionistas terão direito aos dividendos ou JCP. Qualquer pessoa que possua ações na Data Com terá direito aos proventos, mesmo que venda as ações posteriormente.\n",
        "2. **Influência no Preço das Ações**: Após a Data Com, é comum que o preço das ações caia aproximadamente pelo valor dos dividendos ou JCP distribuídos, refletindo que os novos compradores não terão direito a esses proventos.\n",
        "\n",
        "### Exemplo Prático\n",
        "\n",
        "Suponha que uma empresa anuncie dividendos com as seguintes datas:\n",
        "- **Data Com**: 10 de junho\n",
        "- **Data Ex-Dividendo**: 11 de junho\n",
        "- **Data de Pagamento**: 25 de junho\n",
        "\n",
        "Se um investidor deseja receber os dividendos, ele precisa comprar as ações até o final do dia 10 de junho. No dia 11 de junho, as ações serão negociadas sem o direito aos dividendos (ex-dividendo). Se ele comprar as ações no dia 11 de junho ou depois, não terá direito aos dividendos anunciados.\n",
        "\n",
        "### Resumo das Datas Importantes\n",
        "\n",
        "- **Data de Declaração**: Data em que a empresa anuncia os dividendos ou JCP.\n",
        "- **Data Com (ou Data de Corte)**: Último dia em que as ações precisam ser possuídas para ter direito aos proventos.\n",
        "- **Data Ex-Dividendo**: Dia seguinte à Data Com, quando as ações começam a ser negociadas sem direito aos proventos.\n",
        "- **Data de Pagamento**: Data em que os dividendos ou JCP são efetivamente pagos aos acionistas.\n",
        "\n",
        "Compreender a Data Com é essencial para investidores que buscam obter rendimentos através de dividendos ou JCP, pois essa data determina a elegibilidade para receber esses proventos."
      ]
    },
    {
      "cell_type": "markdown",
      "source": [
        "#Alguns conceitos que vamos trabalhar nesse codigo:"
      ],
      "metadata": {
        "id": "D6J5zlR8w84B"
      }
    },
    {
      "cell_type": "markdown",
      "source": [
        "**Decodificação e Codificação**"
      ],
      "metadata": {
        "id": "WxctvA4dxPS4"
      }
    },
    {
      "cell_type": "markdown",
      "source": [
        "Você vai perceber que o fim de alguns links parece ter uma informação codificada: Trata-se da base64"
      ],
      "metadata": {
        "id": "gulGn-jzxvGP"
      }
    },
    {
      "cell_type": "markdown",
      "source": [
        "A B3 utiliza o esquema de codificação base64 para compor URLs de request para obter dados de dividendos no seu site por várias razões técnicas e de segurança. Vamos explorar algumas dessas razões:\n",
        "\n",
        "#### 1. **Compactação e Codificação**\n",
        "\n",
        "- **Compactação**: A codificação base64 transforma dados binários em uma string ASCII, o que permite uma representação compacta e segura de informações que podem incluir caracteres especiais, espaços e outros que poderiam ser problemáticos em uma URL.\n",
        "- **Padronização**: URLs têm restrições quanto aos caracteres que podem incluir. A base64 garante que todos os dados estão em um formato seguro e padronizado que pode ser passado em uma URL sem problemas de codificação.\n",
        "\n",
        "#### 2. **Segurança e Integridade**\n",
        "\n",
        "- **Ofuscação**: Embora não seja uma medida de segurança robusta, a base64 ofusca os dados, tornando-os menos legíveis para usuários comuns. Isso adiciona uma camada mínima de proteção contra manipulações ou inspeções triviais.\n",
        "- **Verificação de Integridade**: A base64 pode ser usada para assegurar que os dados não foram corrompidos ou alterados durante a transmissão, pois qualquer alteração na string codificada resultará em uma sequência inválida ou não decodificável.\n",
        "\n",
        "#### 3. **Facilidade de Manipulação e Transmissão**\n",
        "\n",
        "- **Uniformidade**: A base64 transforma dados complexos em uma sequência uniforme de caracteres (A-Z, a-z, 0-9, +, /), facilitando a manipulação e transmissão através de sistemas que podem ter diferentes restrições ou capacidades de processamento.\n",
        "- **Compatibilidade**: Sistemas de rede, APIs e navegadores podem manipular strings base64 de maneira consistente, evitando problemas que poderiam surgir com caracteres especiais ou binários.\n",
        "\n",
        "#### 4. **Encapsulamento de Dados Complexos**\n",
        "\n",
        "- **Estruturas de Dados**: Dados complexos, como objetos JSON ou binários, podem ser convertidos para uma string base64. Isso é útil para encapsular informações estruturadas que precisam ser passadas como parâmetros de uma URL sem precisar de serialização complexa ou sem risco de perda de formatação.\n",
        "\n",
        "#### Exemplo de Uso\n",
        "\n",
        "Quando você solicita dados de dividendos do site da B3, a URL pode incluir parâmetros codificados em base64 que contêm informações sobre a consulta, como o código da ação, data e outros critérios. Ao decodificar a string base64, a B3 pode extrair esses parâmetros de maneira segura e consistente.\n",
        "\n",
        "##### Exemplo:\n",
        "\n",
        "- **URL Encodada**: `https://site.b3.com.br/dividends?data=YWJjMTIz`\n",
        "- **Base64 Decodificada**: `abc123`\n",
        "\n",
        "Neste exemplo, `YWJjMTIz` é a string base64 que representa `abc123`.\n",
        "\n",
        "Isso quer dizer que podemos fazer a operação inversa, isto é, passar uma string legivel e converter para ASCII\n"
      ],
      "metadata": {
        "id": "vkQwk_Ncxxb4"
      }
    },
    {
      "cell_type": "markdown",
      "metadata": {
        "id": "fy3s3cJEgvdL"
      },
      "source": [
        "Fonte dos dados\n",
        "\n",
        "https://www.b3.com.br/pt_br/produtos-e-servicos/negociacao/renda-variavel/empresas-listadas.htm\n"
      ]
    },
    {
      "cell_type": "markdown",
      "metadata": {
        "id": "cWJLcykolgDb"
      },
      "source": [
        "\n",
        "\n",
        "Para saber mais\n",
        "\n",
        "https://riconnect.rico.com.vc/blog/dividendos/"
      ]
    },
    {
      "cell_type": "markdown",
      "metadata": {
        "id": "l0U2Qr0u0ovg"
      },
      "source": [
        "# Importação das bibliotecas"
      ]
    },
    {
      "cell_type": "code",
      "execution_count": null,
      "metadata": {
        "id": "RoLwPpG5j9iY"
      },
      "outputs": [],
      "source": [
        "from base64 import b64decode\n",
        "from base64 import b64encode\n",
        "import pandas as pd\n",
        "import requests\n",
        "import seaborn as sns\n",
        "import matplotlib.pyplot as plt\n",
        "import yfinance as yf"
      ]
    },
    {
      "cell_type": "markdown",
      "source": [
        "#Funções"
      ],
      "metadata": {
        "id": "AAfKPBToTFaM"
      }
    },
    {
      "cell_type": "code",
      "source": [
        "# Função para buscar o trading name\n",
        "def get_trading_name(ticker):\n",
        "    # cria os parâmetros\n",
        "    params = {\"language\":\"pt-br\",\"pageNumber\":1,\"pageSize\":20,\"company\":ticker}\n",
        "    #params = '{\"language\":\"pt-br\",\"pageNumber\":1,\"pageSize\":20,\"company\":\"' + ticker + '\"}'\n",
        "\n",
        "    # para codificar em base64 é preciso fazer a conversão dos parâmetros em bytes\n",
        "    params = bytes(str(params), encoding=\"ascii\")\n",
        "\n",
        "    # faz a codificação em formato bytes\n",
        "    string = b64encode(params)\n",
        "\n",
        "    # decodifica para transformar bytes em string\n",
        "    string = string.decode()\n",
        "\n",
        "    # faz a requisição com os parâmetros\n",
        "    r = requests.get(r'https://sistemaswebb3-listados.b3.com.br/listedCompaniesProxy/CompanyCall/GetInitialCompanies/'+\n",
        "                         string, verify=False)\n",
        "\n",
        "    # retorna o trading name da empresa, (é necessário remover pontos e barras)\n",
        "    for i in r.json()['results']:\n",
        "        if i['issuingCompany'].lower() == ticker.lower():\n",
        "            return i['tradingName'].replace('/','').replace('.','')\n",
        "\n",
        "    # Se a empresa não for encontrada, retorna a mensagem de erro\n",
        "    raise ValueError('Empresa não encontrada')"
      ],
      "metadata": {
        "id": "tZRvHNa8TDSU"
      },
      "execution_count": null,
      "outputs": []
    },
    {
      "cell_type": "code",
      "source": [
        "def proventos(ticker, page, pagesize):\n",
        "    # encontra o trading name da empresa\n",
        "    tradingName = get_trading_name(ticker)\n",
        "\n",
        "    # cria os parâmetros com o trading name\n",
        "    params = {\"language\":\"pt-br\",\"pageNumber\":page,\"pageSize\":pagesize,\"tradingName\":tradingName}\n",
        "\n",
        "    # codifica os parâmetros em base64\n",
        "    params = bytes(str(params), encoding=\"ascii\")\n",
        "    string = b64encode(params)\n",
        "    string = string.decode()\n",
        "\n",
        "    r = requests.get('https://sistemaswebb3-listados.b3.com.br/listedCompaniesProxy/CompanyCall/GetListedCashDividends/'+\n",
        "                             string, verify=False)\n",
        "\n",
        "    return pd.DataFrame(r.json()['results'])"
      ],
      "metadata": {
        "id": "i5UbcB05TNBO"
      },
      "execution_count": null,
      "outputs": []
    },
    {
      "cell_type": "markdown",
      "source": [
        "## Obtenção dos dados"
      ],
      "metadata": {
        "id": "GR9NHyW40kVZ"
      }
    },
    {
      "cell_type": "markdown",
      "source": [
        "**Dados de todos os proventos (Dividendos) pagos pela empresa**"
      ],
      "metadata": {
        "id": "igiNyQqMY8ee"
      }
    },
    {
      "cell_type": "code",
      "source": [
        "proventos('WEGE', 1, 100).drop([\"ratio\",\"quotedPerShares\"], axis = 1)"
      ],
      "metadata": {
        "id": "OXQJJNgcVOWN"
      },
      "execution_count": null,
      "outputs": []
    },
    {
      "cell_type": "markdown",
      "source": [
        "# Comparando com os dados de outras fontes\n",
        "\n",
        "Os dados de dividendos das empresas brasileiras as vezes não estão completos no banco de dados da B3, por isso é bom comparar com outras fontes de dados."
      ],
      "metadata": {
        "id": "J5F9oJWY2kYJ"
      }
    },
    {
      "cell_type": "markdown",
      "source": [
        "**Dados do Yahoo Finance**"
      ],
      "metadata": {
        "id": "ch_AkkibXgKs"
      }
    },
    {
      "cell_type": "code",
      "source": [
        "papel = yf.Ticker('WEGE3.SA')\n",
        "dados_wege = papel.history(start = '2020-01-01')"
      ],
      "metadata": {
        "id": "lfuPjjCN4VSp"
      },
      "execution_count": null,
      "outputs": []
    },
    {
      "cell_type": "code",
      "source": [
        "dados_wege[dados_wege['Dividends'] != 0]"
      ],
      "metadata": {
        "id": "O6mjrTSF4axQ"
      },
      "execution_count": null,
      "outputs": []
    },
    {
      "cell_type": "markdown",
      "source": [
        "Caso queira pode comparar tambem com os dados do Info Money: https://www.infomoney.com.br/cotacoes/b3/acao/taesa-taee3/proventos/"
      ],
      "metadata": {
        "id": "mI8kMq9K4c-h"
      }
    },
    {
      "cell_type": "markdown",
      "source": [
        "# Calculando Dividend Yield"
      ],
      "metadata": {
        "id": "hCA98c-X45LQ"
      }
    },
    {
      "cell_type": "code",
      "execution_count": null,
      "metadata": {
        "id": "CzsQhZ0L-eek"
      },
      "outputs": [],
      "source": [
        "papel = yf.Ticker('WEGE3.SA')\n",
        "dados_papel = papel.history(start = '2010-01-01')"
      ]
    },
    {
      "cell_type": "markdown",
      "metadata": {
        "id": "T2tJP5DGg6-Z"
      },
      "source": [
        "Coluna que vai conter o resultado da soma dos dividendos pagos pela empresa em janelas de 365 dias."
      ]
    },
    {
      "cell_type": "code",
      "execution_count": null,
      "metadata": {
        "id": "ibVJtnCPhl4E"
      },
      "outputs": [],
      "source": [
        "dados_papel['soma_dividendos'] = dados_papel.Dividends.rolling('365D').sum()"
      ]
    },
    {
      "cell_type": "markdown",
      "metadata": {
        "id": "Xero3ieVicO5"
      },
      "source": [
        "Novo dataframe removendo os NaNs gerados no cálculo anterior"
      ]
    },
    {
      "cell_type": "code",
      "execution_count": null,
      "metadata": {
        "id": "74JK3RDsimJD"
      },
      "outputs": [],
      "source": [
        "dados_papel_final = dados_papel.dropna()"
      ]
    },
    {
      "cell_type": "markdown",
      "metadata": {
        "id": "PXAvAoU1itWy"
      },
      "source": [
        "Nova coluna que vai pegar o resultado da coluna anterior de soma dos dividendos e dividir pelo preço do papel"
      ]
    },
    {
      "cell_type": "code",
      "execution_count": null,
      "metadata": {
        "id": "SCdZM5Pmi0rA"
      },
      "outputs": [],
      "source": [
        "dados_papel_final['dividend_yeld'] = dados_papel_final['soma_dividendos']/dados_papel_final['Close']"
      ]
    },
    {
      "cell_type": "markdown",
      "source": [
        "#Visualização do Dividend Yield"
      ],
      "metadata": {
        "id": "mb_9TYV3ZWo1"
      }
    },
    {
      "cell_type": "code",
      "execution_count": null,
      "metadata": {
        "id": "cqbkohUFjQSd"
      },
      "outputs": [],
      "source": [
        "dados_papel_final['dividend_yeld'].plot(figsize=(15,7), title=\"Dividend Yield\");"
      ]
    }
  ],
  "metadata": {
    "colab": {
      "provenance": [],
      "include_colab_link": true
    },
    "kernelspec": {
      "display_name": "Python 3",
      "name": "python3"
    },
    "language_info": {
      "name": "python"
    }
  },
  "nbformat": 4,
  "nbformat_minor": 0
}